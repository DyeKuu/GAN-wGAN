{
 "cells": [
  {
   "cell_type": "code",
   "execution_count": 1,
   "metadata": {},
   "outputs": [
    {
     "output_type": "error",
     "ename": "ModuleNotFoundError",
     "evalue": "No module named 'config'",
     "traceback": [
      "\u001b[1;31m---------------------------------------------------------------------------\u001b[0m",
      "\u001b[1;31mModuleNotFoundError\u001b[0m                       Traceback (most recent call last)",
      "\u001b[1;32m<ipython-input-1-12306a36e2c4>\u001b[0m in \u001b[0;36m<module>\u001b[1;34m\u001b[0m\n\u001b[0;32m     22\u001b[0m \u001b[1;31m# ######## En local ############\u001b[0m\u001b[1;33m\u001b[0m\u001b[1;33m\u001b[0m\u001b[1;33m\u001b[0m\u001b[0m\n\u001b[0;32m     23\u001b[0m \u001b[0mpath_dir\u001b[0m \u001b[1;33m=\u001b[0m \u001b[0mos\u001b[0m\u001b[1;33m.\u001b[0m\u001b[0mgetcwd\u001b[0m\u001b[1;33m(\u001b[0m\u001b[1;33m)\u001b[0m\u001b[1;33m\u001b[0m\u001b[1;33m\u001b[0m\u001b[0m\n\u001b[1;32m---> 24\u001b[1;33m \u001b[1;32mfrom\u001b[0m \u001b[0mconfig\u001b[0m\u001b[1;33m.\u001b[0m\u001b[0mutils\u001b[0m \u001b[1;32mimport\u001b[0m \u001b[1;33m*\u001b[0m\u001b[1;33m\u001b[0m\u001b[1;33m\u001b[0m\u001b[0m\n\u001b[0m",
      "\u001b[1;31mModuleNotFoundError\u001b[0m: No module named 'config'"
     ]
    }
   ],
   "source": [
    "import numpy as np\n",
    "from scipy import stats\n",
    "import random\n",
    "from sklearn.utils import shuffle\n",
    "\n",
    "import tensorflow as tf\n",
    "from tensorflow.keras import layers\n",
    "from tensorflow.keras.utils import plot_model\n",
    "\n",
    "import os\n",
    "import sys\n",
    "import glob\n",
    "import time\n",
    "\n",
    "import matplotlib.pyplot as plt\n",
    "import seaborn as sns\n",
    "from IPython import display\n",
    "from IPython.display import Image\n",
    "import imageio\n",
    "\n",
    "# ----------------------------------------------\n",
    "# ######## En local ############\n",
    "path_dir = os.getcwd()\n",
    "from config.utils import *\n"
   ]
  },
  {
   "cell_type": "code",
   "execution_count": null,
   "metadata": {},
   "outputs": [],
   "source": [
    "import pandas as pd\n",
    "df = pd.read_csv('./data/images_mnist_10K.csv', header= None)\n",
    "data_raw= np.array(df)\n",
    "N_DATA = data_raw.shape[0]\n",
    "DATA_DIM= data_raw.shape[1]\n"
   ]
  },
  {
   "cell_type": "code",
   "execution_count": null,
   "metadata": {},
   "outputs": [],
   "source": [
    "# change the range of data to [-1,1]\n",
    "data= data_raw/255.\n",
    "data = 2*data-1\n",
    "dataset_train = data"
   ]
  },
  {
   "cell_type": "markdown",
   "metadata": {},
   "source": [
    "## 1. GAN"
   ]
  },
  {
   "cell_type": "code",
   "execution_count": null,
   "metadata": {},
   "outputs": [],
   "source": [
    "def build_generator(latent_dim, n_neurons, data_dim=DATA_DIM):\n",
    "    \"\"\"\n",
    "    Construction du générateur\n",
    "    \n",
    "    Parameters\n",
    "    ----------\n",
    "    latent_dim: int\n",
    "        Dimension de la variable latente\n",
    "    n_neurons: int\n",
    "        Nombre de neurones dans la couche cachée\n",
    "    data_dim: int\n",
    "        Dimension de l'espace des données \n",
    "\n",
    "    Returns\n",
    "    -------\n",
    "    tf.Model\n",
    "        Générateur du GAN\n",
    "    \"\"\"    \n",
    "    model = tf.keras.Sequential(name=\"Generator\")\n",
    "    model.add(layers.Dense(n_neurons, input_shape=(latent_dim,), bias_initializer=\"glorot_normal\"))\n",
    "    \n",
    "    # On utilise ici une fonction d'activation LeakyReLU : sigma(x) = ...\n",
    "    # Vous pourrez tester d'autres exemples de fonction d'activation (e.g. ReLU, ou LeakyReLU avec \n",
    "    # d'autres valeurs de alpha) pour comparaison\n",
    "    model.add(layers.LeakyReLU(alpha=0.1))\n",
    "\n",
    "    model.add(layers.Dense(data_dim, bias_initializer=\"glorot_normal\"))\n",
    "    return model\n"
   ]
  },
  {
   "cell_type": "code",
   "execution_count": 5,
   "metadata": {},
   "outputs": [],
   "source": [
    "def build_discriminator(n_neurons, data_dim=DATA_DIM):\n",
    "    \"\"\"\n",
    "    Construction du discriminateur\n",
    "    \n",
    "    Parameters\n",
    "    ----------\n",
    "    n_neurons: int\n",
    "        Nombre de neurones dans les couches cachées\n",
    "    data_dim: int\n",
    "        Dimension de l'espace des données\n",
    "\n",
    "    Returns\n",
    "    -------\n",
    "    tf.Model\n",
    "        Discriminateur du GAN\n",
    "    \"\"\"\n",
    "    model = tf.keras.Sequential(name=\"Discriminator\")\n",
    "    model.add(layers.Dense(n_neurons, input_shape=(DATA_DIM,), bias_initializer=\"glorot_normal\", \n",
    "                           kernel_initializer=\"glorot_normal\"))\n",
    "    model.add(layers.LeakyReLU(alpha=0.1))\n",
    "    \n",
    "\n",
    "    model.add(layers.Dense(n_neurons, bias_initializer=\"glorot_normal\", kernel_initializer=\"glorot_normal\"))\n",
    "    model.add(layers.LeakyReLU(alpha=0.1))\n",
    "    \n",
    "    model.add(layers.Dense(units = 1, bias_initializer=\"glorot_normal\", kernel_initializer=\"glorot_normal\"))\n",
    "\n",
    "    return model\n"
   ]
  },
  {
   "cell_type": "code",
   "execution_count": 6,
   "metadata": {},
   "outputs": [],
   "source": [
    "def discriminator_loss(real_output, fake_output): \n",
    "    \"\"\"\n",
    "    Fonction de coût du discriminateur\n",
    "\n",
    "    Parameters\n",
    "    ----------\n",
    "    real_output: arr\n",
    "        Sorties du discriminateur D(x)\n",
    "    fake_output: arr\n",
    "        Sorties du générateur D(G(z))\n",
    "\n",
    "    Returns\n",
    "    -------\n",
    "    float\n",
    "        Moyenne des fonctions de coûts dans le batch\n",
    "    \"\"\"\n",
    "    return -tf.reduce_mean(tf.math.log(tf.nn.sigmoid(real_output) ) + tf.math.log(1. - tf.nn.sigmoid(fake_output) ))\n",
    "  \n",
    "def generator_loss(fake_output):\n",
    "    \"\"\"\n",
    "    Fonction de coût du générateur\n",
    "\n",
    "    Parameters\n",
    "    ----------\n",
    "    fake_output: arr\n",
    "        Sorties du générateur D(G(z))\n",
    "\n",
    "    Returns\n",
    "    -------\n",
    "    float\n",
    "        Moyenne des fonctions de coûts dans le batch\n",
    "    \"\"\"\n",
    "    return -tf.reduce_mean(tf.math.log(tf.nn.sigmoid(fake_output) ))"
   ]
  },
  {
   "cell_type": "code",
   "execution_count": 7,
   "metadata": {},
   "outputs": [],
   "source": [
    "# ===========================================================================\n",
    "# ===========================================================================\n",
    "@tf.function\n",
    "def train_step(data_batch, noise_dim):\n",
    "    \"\"\"\n",
    "    Calcul du gradient et mise à jour des paramètres à chaque itération\n",
    "\n",
    "    Parameters\n",
    "    ----------\n",
    "    data_batch: arr\n",
    "        Batch de données (x_1, ..., x_m)\n",
    "    noise_dim: int\n",
    "        Dimension de la variable latente\n",
    "    \"\"\"\n",
    "    \n",
    "    tf.random.set_seed(counter_seed)  # actualisation de la seed pour chaque train_step \n",
    "    batch_size = data_batch.shape[0]\n",
    "    \n",
    "    # Entrainement du Discriminateur\n",
    "    noise = tf.random.uniform([batch_size, noise_dim],minval=-1.,maxval =1.)  # z = (z_1, .., z_m)\n",
    "    with tf.GradientTape() as disc_tape:\n",
    "        generated_data = generator(noise)  # G(z)  \n",
    "        real_output = discriminator(data_batch)  # D(x)\n",
    "        fake_output = discriminator(generated_data)  # D(G(z))\n",
    "\n",
    "        disc_loss = discriminator_loss(real_output, fake_output)  # calcul de la loss du discriminateur\n",
    "    \n",
    "    # calcul du gradient\n",
    "    gradients_of_discriminator = disc_tape.gradient(disc_loss, discriminator.trainable_variables)\n",
    "    \n",
    "    # mise à jour des paramètres\n",
    "    discriminator_optimizer.apply_gradients(zip(gradients_of_discriminator, discriminator.trainable_variables))\n",
    "        \n",
    "        \n",
    "    # Entrainement du Générateur\n",
    "    #############\n",
    "    # A COMPLETER\n",
    "    # sur la base du discriminateur\n",
    "    #############\n",
    "    noise = tf.random.uniform([batch_size, noise_dim],minval=-1.,maxval=1.) # z = (z_1, .., z_m)\n",
    "    with tf.GradientTape() as gen_tape:\n",
    "        generated_data = generator(noise)  # G(z) \n",
    "        fake_output = discriminator(generated_data)  # D(G(z))\n",
    "        \n",
    "        gen_loss = generator_loss(fake_output)  # calcul de la loss du générateur\n",
    "    \n",
    "    # calcul du gradient\n",
    "    gradients_of_generator = gen_tape.gradient(gen_loss, generator.trainable_variables)\n",
    "    \n",
    "    # mise à jour des paramètres\n",
    "    generator_optimizer.apply_gradients(zip(gradients_of_generator, generator.trainable_variables))\n",
    "    return\n",
    "\n",
    "def evaluate(data, noise_test):\n",
    "    \"\"\"\n",
    "    Evaluation de l'erreur du générateur et du discriminateur (à utiliser pour l'affichage\n",
    "    à la fin de l'entrainement)\n",
    "    \n",
    "    Parameters\n",
    "    ----------\n",
    "    data: arr\n",
    "        Données de taille n, x=(x_1,..., x_n)\n",
    "    noise_test: arr\n",
    "        Bruit de taille n, z=(z_1,..., z_n)\n",
    "        \n",
    "    Returns\n",
    "    -------\n",
    "    loss_G: float\n",
    "        valeur de la fonction de coût du générateur\n",
    "    loss_D: float\n",
    "        valeur de la fonction de coût du discriminateur\n",
    "    \"\"\"\n",
    "    \n",
    "    generated_data = generator(noise_test) #G(z)\n",
    "    real_output = discriminator(data)# D(X)\n",
    "    fake_output = discriminator(generated_data) # D(G(z))\n",
    "    \n",
    "    loss_D = discriminator_loss(real_output, fake_output)\n",
    "    loss_G = generator_loss(fake_output)\n",
    "\n",
    "    return loss_G.numpy(), loss_D.numpy()"
   ]
  },
  {
   "cell_type": "code",
   "execution_count": 8,
   "metadata": {},
   "outputs": [
    {
     "name": "stdout",
     "output_type": "stream",
     "text": [
      "0.7577291 1.2181408\n"
     ]
    }
   ],
   "source": [
    "tf.random.set_seed(1234)\n",
    "np.random.seed(1234)\n",
    "counter_seed = 0\n",
    "\n",
    "# Choix des paramètres d'entrainement:\n",
    "BATCH_SIZE = 50\n",
    "LATENT_DIM = 100  #############\n",
    "EPOCHS =  500   # 1000\n",
    "NEURONS_G = 256\n",
    "NEURONS_D = 256\n",
    "\n",
    "# Construction du GAN\n",
    "generator = build_generator(LATENT_DIM, NEURONS_G)\n",
    "discriminator = build_discriminator(NEURONS_D)\n",
    "generator_optimizer = tf.keras.optimizers.Adam(learning_rate=2e-4)\n",
    "discriminator_optimizer = tf.keras.optimizers.Adam(learning_rate=2e-4)\n",
    "\n",
    "# pour l'affichage\n",
    "list_loss_G_train=[]\n",
    "list_loss_D_train=[]\n",
    "\n",
    "\n",
    "np.random.seed(1234)\n",
    "noise_test = np.random.uniform(-1.,1.,size=(N_DATA, LATENT_DIM))\n",
    "# évaluation sur toutes les données avec un bruit test fixe\n",
    "loss_G, loss_D = evaluate(dataset_train, noise_test)  \n",
    "list_loss_G_train.append(loss_G)\n",
    "list_loss_D_train.append(loss_D)\n",
    "\n",
    "print(loss_G, loss_D)"
   ]
  },
  {
   "cell_type": "code",
   "execution_count": null,
   "metadata": {},
   "outputs": [
    {
     "name": "stdout",
     "output_type": "stream",
     "text": [
      "Epoch 480 (1.56 sec): Loss Generateur=3.692, Loss Discriminateur=0.416\n"
     ]
    }
   ],
   "source": [
    "# Boucle d'entraînement:\n",
    "print(\"Début de l'entraînement ...\")\n",
    "\n",
    "# division des données en batch de taille BATCH_SIZE\n",
    "data_batches = tf.data.Dataset.from_tensor_slices(dataset_train).batch(BATCH_SIZE)\n",
    "\n",
    "for epoch in range(1, EPOCHS+1):\n",
    "    start_time= time.time()\n",
    "    counter_seed+=1\n",
    "    \n",
    "    for data_batch in data_batches:\n",
    "        counter_seed += 1\n",
    "        train_step(data_batch, LATENT_DIM)\n",
    "    \n",
    "    if (epoch) % 10 == 0:    \n",
    "        # évaluation à epoch modulo 10 sur toutes les données avec un bruit test fixe\n",
    "        loss_G, loss_D = evaluate(dataset_train, noise_test)  \n",
    "        list_loss_G_train.append(loss_G)\n",
    "        list_loss_D_train.append(loss_D)\n",
    "        \n",
    "        time_epoch = time.time() - start_time\n",
    "        display.clear_output(wait=True)\n",
    "        print(\"Epoch {} ({:.2f} sec): Loss Generateur={:.3f}, Loss Discriminateur={:.3f}\".format(\\\n",
    "            epoch, time_epoch, loss_G, loss_D))\n",
    "        \n",
    "    if (epoch %10) == 0:\n",
    "        # sauvegarde les modèles 10 fois durant l'entraînement 每10个epoch把model存起来，后来就可以直接调用来比较，生成结果\n",
    "        # 可以先手动新建model/mnist文件夹\n",
    "        generator.save(os.path.join(path_dir, \"models\", \"mnist\", \"generator-N{}-Ldim{}-epoch{}-bs{}.h5\".format(\n",
    "            N_DATA, LATENT_DIM, epoch, BATCH_SIZE)))\n",
    "            \n",
    "        discriminator.save(os.path.join(path_dir,\"models\", \"mnist\", \"discriminator-N{}-Ldim{}-epoch{}-bs{}.h5\".format(\n",
    "            N_DATA, LATENT_DIM, epoch, BATCH_SIZE)))\n",
    "        \n",
    "print(\"Fin de l'entraînement.\")"
   ]
  },
  {
   "cell_type": "code",
   "execution_count": 11,
   "metadata": {},
   "outputs": [
    {
     "data": {
      "text/plain": [
       "<matplotlib.legend.Legend at 0x1e80f39ef88>"
      ]
     },
     "execution_count": 11,
     "metadata": {},
     "output_type": "execute_result"
    },
    {
     "data": {
      "image/png": "[encoded data removed]",
      "text/plain": [
       "<Figure size 432x288 with 1 Axes>"
      ]
     },
     "metadata": {
      "needs_background": "light"
     },
     "output_type": "display_data"
    }
   ],
   "source": [
    "x = np.array(range(len(list_loss_G_train)))*10\n",
    "plt.plot(x, list_loss_G_train, label=\"loss_G_train\",)\n",
    "plt.plot(x, list_loss_D_train, label=\"loss_D_train\")\n",
    "plt.legend(loc=\"upper left\")"
   ]
  },
  {
   "cell_type": "code",
   "execution_count": 34,
   "metadata": {},
   "outputs": [
    {
     "name": "stdout",
     "output_type": "stream",
     "text": [
      "WARNING:tensorflow:No training configuration found in the save file, so the model was *not* compiled. Compile it manually.\n",
      "WARNING:tensorflow:No training configuration found in the save file, so the model was *not* compiled. Compile it manually.\n"
     ]
    }
   ],
   "source": [
    "# 读取之前训练时存的generator 和 discirminator， 改变 read_epochs 来选择训练次数。10的倍数, \n",
    "read_epochs=10\n",
    "generator_model_file_name =os.path.join(path_dir, \"models\", \"mnist\", \"generator-N{}-Ldim{}-epoch{}-bs{}.h5\".format(\n",
    "            N_DATA, LATENT_DIM, read_epochs, BATCH_SIZE))\n",
    "generator = tf.keras.models.load_model(generator_model_file_name)\n",
    "\n",
    "discriminator_model_file_name =os.path.join(path_dir,\"models\", \"mnist\", \"discriminator-N{}-Ldim{}-epoch{}-bs{}.h5\".format(\n",
    "            N_DATA, LATENT_DIM, read_epochs, BATCH_SIZE))\n",
    "discriminator = tf.keras.models.load_model(discriminator_model_file_name)"
   ]
  },
  {
   "cell_type": "code",
   "execution_count": 35,
   "metadata": {},
   "outputs": [
    {
     "data": {
      "image/png": "[encoded data removed]",
      "text/plain": [
       "<Figure size 640x640 with 9 Axes>"
      ]
     },
     "metadata": {
      "needs_background": "light"
     },
     "output_type": "display_data"
    }
   ],
   "source": [
    "fake = generator(noise_test[:9])\n",
    "\n",
    "fake = np.array(fake)\n",
    "fake=(fake +1)/2. *255\n",
    "fake[fake <0]=0\n",
    "fake[fake>255]=255\n",
    "fake=fake.astype(int)\n",
    "arran =[331,332,333,334,335,336,337,338,339]\n",
    "plt.figure(figsize=(8,8), dpi=80)\n",
    "plt.figure(1)\n",
    "for i in range(9):\n",
    "    image = fake[i].reshape(28,28)\n",
    "    ax=plt.subplot(arran[i])\n",
    "    ax.imshow(image, cmap='gray')\n",
    "    \n",
    "plt.show()"
   ]
  },
  {
   "cell_type": "markdown",
   "metadata": {},
   "source": [
    "## 2 WGAN"
   ]
  },
  {
   "cell_type": "markdown",
   "metadata": {},
   "source": [
    "We make following changements:\n",
    "\n",
    "- No log in the loss. No sigmoid for D.\n",
    "\n",
    "- Clip the weight of D.\n",
    "\n",
    "- Use RMSProp instead of ADAM"
   ]
  },
  {
   "cell_type": "code",
   "execution_count": 15,
   "metadata": {},
   "outputs": [],
   "source": [
    "def discriminator_loss_wgan(real_output, fake_output): \n",
    "    \"\"\"\n",
    "    Fonction de coût du discriminateur\n",
    "\n",
    "    Parameters\n",
    "    ----------\n",
    "    real_output: arr\n",
    "        Sorties du discriminateur D(x)\n",
    "    fake_output: arr\n",
    "        Sorties du générateur D(G(z))\n",
    "\n",
    "    Returns\n",
    "    -------\n",
    "    float\n",
    "        Moyenne des fonctions de coûts dans le batch\n",
    "    \"\"\"\n",
    "    return -tf.reduce_mean(real_output) + tf.reduce_mean(fake_output)\n",
    "  \n",
    "def generator_loss_wgan(fake_output):\n",
    "    \"\"\"\n",
    "    Fonction de coût du générateur\n",
    "\n",
    "    Parameters\n",
    "    ----------\n",
    "    fake_output: arr\n",
    "        Sorties du générateur D(G(z))\n",
    "\n",
    "    Returns\n",
    "    -------\n",
    "    float\n",
    "        Moyenne des fonctions de coûts dans le batch\n",
    "    \"\"\"\n",
    "    return -tf.reduce_mean(fake_output)"
   ]
  },
  {
   "cell_type": "code",
   "execution_count": 16,
   "metadata": {},
   "outputs": [],
   "source": [
    "# ===========================================================================\n",
    "# ===========================================================================\n",
    "@tf.function\n",
    "def train_step_wgan(data_batch, noise_dim, c = 0.01, n_critic = 5):\n",
    "    \"\"\"\n",
    "    Calcul du gradient et mise à jour des paramètres à chaque itération\n",
    "\n",
    "    Parameters\n",
    "    ----------\n",
    "    data_batch: arr\n",
    "        Batch de données (x_1, ..., x_m)\n",
    "    noise_dim: int\n",
    "        Dimension de la variable latente\n",
    "    \"\"\"\n",
    "    \n",
    "    tf.random.set_seed(counter_seed)  # actualisation de la seed pour chaque train_step \n",
    "    batch_size = data_batch.shape[0]\n",
    "    \n",
    "    for _ in range(n_critic):\n",
    "        # Entrainement du Discriminateur\n",
    "        noise = tf.random.uniform([batch_size, noise_dim],minval=-1.,maxval =1.)  # z = (z_1, .., z_m)\n",
    "        with tf.GradientTape() as disc_tape:\n",
    "            generated_data = generator_wgan(noise)  # G(z)  \n",
    "            real_output = discriminator_wgan(data_batch)  # D(x)\n",
    "            fake_output = discriminator_wgan(generated_data)  # D(G(z))\n",
    "\n",
    "            disc_loss = discriminator_loss_wgan(real_output, fake_output)  # calcul de la loss du discriminateur\n",
    "\n",
    "        # calcul du gradient\n",
    "        gradients_of_discriminator = disc_tape.gradient(disc_loss, discriminator_wgan.trainable_variables)\n",
    "\n",
    "        # mise à jour des paramètres\n",
    "        discriminator_optimizer_wgan.apply_gradients(zip(gradients_of_discriminator, discriminator_wgan.trainable_variables))\n",
    "\n",
    "            # clip the weight of D\n",
    "        for p in discriminator_wgan.trainable_variables:\n",
    "            p.assign(tf.clip_by_value(p, -c, c))\n",
    "        \n",
    "        \n",
    "    # Entrainement du Générateur=\n",
    "    noise = tf.random.uniform([batch_size, noise_dim],minval=-1.,maxval=1.) # z = (z_1, .., z_m)\n",
    "    with tf.GradientTape() as gen_tape:\n",
    "        generated_data = generator_wgan(noise)  # G(z) \n",
    "        fake_output = discriminator_wgan(generated_data)  # D(G(z))\n",
    "        \n",
    "        gen_loss = generator_loss_wgan(fake_output)  # calcul de la loss du générateur\n",
    "    \n",
    "    # calcul du gradient\n",
    "    gradients_of_generator = gen_tape.gradient(gen_loss, generator_wgan.trainable_variables)\n",
    "    \n",
    "    # mise à jour des paramètres\n",
    "    generator_optimizer_wgan.apply_gradients(zip(gradients_of_generator, generator_wgan.trainable_variables))\n",
    "    return\n",
    "\n",
    "def evaluate_wgan(data, noise_test):\n",
    "    \"\"\"\n",
    "    Evaluation de l'erreur du générateur et du discriminateur (à utiliser pour l'affichage\n",
    "    à la fin de l'entrainement)\n",
    "    \n",
    "    Parameters\n",
    "    ----------\n",
    "    data: arr\n",
    "        Données de taille n, x=(x_1,..., x_n)\n",
    "    noise_test: arr\n",
    "        Bruit de taille n, z=(z_1,..., z_n)\n",
    "        \n",
    "    Returns\n",
    "    -------\n",
    "    loss_G: float\n",
    "        valeur de la fonction de coût du générateur\n",
    "    loss_D: float\n",
    "        valeur de la fonction de coût du discriminateur\n",
    "    \"\"\"\n",
    "    \n",
    "    generated_data = generator_wgan(noise_test) #G(z)\n",
    "    real_output = discriminator_wgan(data)# D(X)\n",
    "    fake_output = discriminator_wgan(generated_data) # D(G(z))\n",
    "    \n",
    "    loss_D = discriminator_loss_wgan(real_output, fake_output)\n",
    "    loss_G = generator_loss_wgan(fake_output)\n",
    "\n",
    "    return loss_G.numpy(), loss_D.numpy()"
   ]
  },
  {
   "cell_type": "code",
   "execution_count": 17,
   "metadata": {},
   "outputs": [
    {
     "name": "stdout",
     "output_type": "stream",
     "text": [
      "0.120809875 -0.4498337\n"
     ]
    }
   ],
   "source": [
    "tf.random.set_seed(1234)\n",
    "np.random.seed(1234)\n",
    "counter_seed = 0\n",
    "\n",
    "# Choix des paramètres d'entrainement:\n",
    "BATCH_SIZE = 50\n",
    "LATENT_DIM = 100  #############\n",
    "EPOCHS =  500   # 1000\n",
    "NEURONS_G = 256\n",
    "NEURONS_D = 256\n",
    "\n",
    "# Construction du GAN\n",
    "generator_wgan = build_generator(LATENT_DIM, NEURONS_G)\n",
    "discriminator_wgan = build_discriminator(NEURONS_D)\n",
    "generator_optimizer_wgan = tf.keras.optimizers.RMSprop(learning_rate=2e-4)\n",
    "discriminator_optimizer_wgan = tf.keras.optimizers.RMSprop(learning_rate=2e-4)\n",
    "\n",
    "# pour l'affichage\n",
    "list_loss_G_train_wgan=[]\n",
    "list_loss_D_train_wgan=[]\n",
    "\n",
    "\n",
    "np.random.seed(1234)\n",
    "noise_test = np.random.uniform(-1.,1.,size=(N_DATA, LATENT_DIM))\n",
    "# évaluation sur toutes les données avec un bruit test fixe\n",
    "loss_G_wgan, loss_D_wgan = evaluate_wgan(dataset_train, noise_test)  \n",
    "list_loss_G_train_wgan.append(loss_G_wgan)\n",
    "list_loss_D_train_wgan.append(loss_D_wgan)\n",
    "\n",
    "print(loss_G_wgan, loss_D_wgan)"
   ]
  },
  {
   "cell_type": "code",
   "execution_count": 18,
   "metadata": {},
   "outputs": [
    {
     "name": "stdout",
     "output_type": "stream",
     "text": [
      "Epoch 500 (1.12 sec): Loss Generateur=0.075, Loss Discriminateur=0.004\n",
      "Fin de l'entraînement.\n"
     ]
    }
   ],
   "source": [
    "# Boucle d'entraînement:\n",
    "print(\"Début de l'entraînement ...\")\n",
    "\n",
    "# division des données en batch de taille BATCH_SIZE\n",
    "data_batches = tf.data.Dataset.from_tensor_slices(dataset_train).batch(BATCH_SIZE)\n",
    "\n",
    "for epoch in range(1, EPOCHS+1):\n",
    "    start_time= time.time()\n",
    "    counter_seed+=1\n",
    "    \n",
    "    for data_batch in data_batches:\n",
    "        counter_seed += 1\n",
    "        train_step_wgan(data_batch, LATENT_DIM)\n",
    "    \n",
    "    if (epoch) % 10 == 0:    \n",
    "        # évaluation à epoch modulo 10 sur toutes les données avec un bruit test fixe\n",
    "        loss_G_wgan, loss_D_wgan = evaluate_wgan(dataset_train, noise_test)  \n",
    "        list_loss_G_train_wgan.append(loss_G_wgan)\n",
    "        list_loss_D_train_wgan.append(loss_D_wgan)\n",
    "        \n",
    "        time_epoch = time.time() - start_time\n",
    "        display.clear_output(wait=True)\n",
    "        print(\"Epoch {} ({:.2f} sec): Loss Generateur={:.3f}, Loss Discriminateur={:.3f}\".format(\\\n",
    "            epoch, time_epoch, loss_G_wgan, loss_D_wgan))\n",
    "        \n",
    "    if (epoch) % (EPOCHS/10) == 0:\n",
    "        # sauvegarde les modèles 10 fois durant l'entraînement\n",
    "        generator_wgan.save(os.path.join(path_dir, \"models\", \"mnist\", \"generator-N{}-Ldim{}-epoch{}-bs{}.h5\".format(\n",
    "            N_DATA, LATENT_DIM, epoch, BATCH_SIZE)))\n",
    "            \n",
    "        discriminator_wgan.save(os.path.join(path_dir,\"models\", \"mnist\", \"discriminator-N{}-Ldim{}-epoch{}-bs{}.h5\".format(\n",
    "            N_DATA, LATENT_DIM, epoch, BATCH_SIZE)))\n",
    "        \n",
    "print(\"Fin de l'entraînement.\")"
   ]
  },
  {
   "cell_type": "code",
   "execution_count": 19,
   "metadata": {},
   "outputs": [
    {
     "name": "stdout",
     "output_type": "stream",
     "text": [
      "[0.120809875, -0.41452333, -0.17268121, 0.038290687, -0.16730486, -0.48048255, -0.35323602, -0.20268354, -0.021907492, -0.45202148, -0.22167848, -0.31196156, -0.3190281, -0.3312756, -0.19586703, 0.029881522, -0.06712027, -0.37129334, -0.228147, -0.10981949, -0.03599351, -0.08560425, 0.008263559, -0.38424987, -0.36001328, -0.5680267, -0.18211643, 0.077951066, -0.3291285, 0.25371113, -0.55426246, 0.6012212, -1.1729879, 0.39812255, 0.28061724, -2.9345922, 0.322074, 0.4995396, 0.425015, 0.46210358, -1.5500029, -0.8265532, 0.1208333, 0.20392929, 0.7397936, -0.9100074, -1.4235694, 0.31390586, 0.061068524, -0.26651147, 0.07538596]\n",
      "[-0.4498337, -0.7915001, -0.7867438, -0.5943151, -0.30844343, -0.15283951, -0.13706103, -0.25652105, -0.27704644, -0.04295984, -0.1741405, -0.13147661, -0.06607652, -0.0019789338, -0.09035307, -0.1869248, -0.1512867, 0.052836597, -0.034787685, -0.113682374, -0.11882026, -0.09359315, -0.076064356, 0.040248662, -0.002365023, 0.17284197, 0.019655049, 0.14871666, 0.1384143, 0.11922577, 0.063391, -0.017621815, 0.18719143, 0.015882522, 0.020588279, 0.48092794, -0.019556284, -0.02525115, 0.022705764, -0.021205872, 0.37288022, 0.16673064, -0.004154302, -0.04643874, 0.368308, 0.03478712, 0.2329042, -0.006072998, 0.029989969, 0.20269273, 0.0037639588]\n"
     ]
    }
   ],
   "source": [
    "print(list_loss_G_train_wgan)\n",
    "print(list_loss_D_train_wgan)"
   ]
  },
  {
   "cell_type": "code",
   "execution_count": 26,
   "metadata": {},
   "outputs": [
    {
     "data": {
      "image/png": "[encoded data removed]",
      "text/plain": [
       "<Figure size 640x640 with 9 Axes>"
      ]
     },
     "metadata": {
      "needs_background": "light"
     },
     "output_type": "display_data"
    }
   ],
   "source": [
    "fake = generator_wgan(noise_test[:9])\n",
    "\n",
    "fake = np.array(fake)\n",
    "fake=(fake +1)/2. *255\n",
    "fake[fake <0]=0\n",
    "fake[fake>255]=255\n",
    "fake=fake.astype(int)\n",
    "\n",
    "arran =[331,332,333,334,335,336,337,338,339]\n",
    "plt.figure(figsize=(8,8), dpi=80)\n",
    "plt.figure(1)\n",
    "for i in range(9):\n",
    "    image = fake[i].reshape(28,28)\n",
    "    ax=plt.subplot(arran[i])\n",
    "    ax.imshow(image, cmap='gray')\n",
    "    \n",
    "plt.show()"
   ]
  }
 ],
 "metadata": {
  "kernelspec": {
   "display_name": "Python 3",
   "language": "python",
   "name": "python3"
  },
  "language_info": {
   "codemirror_mode": {
    "name": "ipython",
    "version": 3
   },
   "file_extension": ".py",
   "mimetype": "text/x-python",
   "name": "python",
   "nbconvert_exporter": "python",
   "pygments_lexer": "ipython3",
   "version": "3.7.9-final"
  }
 },
 "nbformat": 4,
 "nbformat_minor": 4
}